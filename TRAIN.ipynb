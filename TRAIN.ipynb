{
 "cells": [
  {
   "cell_type": "code",
   "execution_count": null,
   "id": "9a02b696",
   "metadata": {},
   "outputs": [],
   "source": [
    "import numpy as np # used in Numerical computations\n",
    "import matplotlib.pyplot as plt # for graphs\n",
    "# Deep learning model building \n",
    "from tensorflow.keras.layers import Dense\n",
    "from tensorflow.keras.optimizers import Adam\n",
    "from tensorflow.keras.utils import to_categorical\n",
    "from tensorflow.keras.layers import Dropout, Flatten\n",
    "from tensorflow.keras.models import Sequential\n",
    "from tensorflow.keras.layers import Conv2D, MaxPooling2D, Flatten, Dense\n",
    "from tensorflow.keras.preprocessing.image import ImageDataGenerator\n",
    "\n",
    "import cv2 # OpenCV Image processing\n",
    "from sklearn.model_selection import train_test_split # use in data spliting \n",
    "import pickle # Saving the trained model\n",
    "import os # File system operations read & write\n",
    "import pandas as pd # Reading CSV files\n",
    "import random # Random sampling"
   ]
  },
  {
   "cell_type": "code",
   "execution_count": null,
   "id": "3175206e",
   "metadata": {},
   "outputs": [],
   "source": [
    "def grayscale(img):\n",
    "    img = cv2.cvtColor(img,cv2.COLOR_BGR2GRAY)\n",
    "    return img\n",
    "\n",
    "def equalize(img):\n",
    "    img =cv2.equalizeHist(img)\n",
    "    return img\n",
    "\n",
    "def preprocessing(img):\n",
    "    img = grayscale(img)     # CONVERT TO GRAYSCALE\n",
    "    img = equalize(img)      # STANDARDIZE THE LIGHTING IN AN IMAGE\n",
    "    img = img/255            # TO NORMALIZE VALUES BETWEEN 0 AND 1 INSTEAD OF 0 TO 255\n",
    "    return img"
   ]
  },
  {
   "cell_type": "code",
   "execution_count": null,
   "id": "ef5c91ed",
   "metadata": {},
   "outputs": [],
   "source": [
    "def myModel():\n",
    "    no_Of_Filters=60\n",
    "    size_of_Filter=(5,5) # THIS IS THE KERNEL THAT MOVE AROUND THE IMAGE TO GET THE FEATURES.\n",
    "                         # THIS WOULD REMOVE 2 PIXELS FROM EACH BORDER WHEN USING 32 32 IMAGE\n",
    "    size_of_Filter2=(3,3)\n",
    "    size_of_pool=(2,2)  # SCALE DOWN ALL FEATURE MAP TO GERNALIZE MORE, TO REDUCE OVERFITTING\n",
    "    no_Of_Nodes = 500   # NO. OF NODES IN HIDDEN LAYERS\n",
    "    model= Sequential()\n",
    "    # ADDING MORE CONVOLUTION LAYERS = LESS FEATURES BUT CAN CAUSE ACCURACY TO INCREASE\n",
    "    model.add((Conv2D(no_Of_Filters,size_of_Filter,input_shape=(imageDimesions[0],imageDimesions[1],1),activation='relu')))  \n",
    "    model.add((Conv2D(no_Of_Filters, size_of_Filter, activation='relu')))\n",
    "    model.add(MaxPooling2D(pool_size=size_of_pool)) # DOES NOT EFFECT THE DEPTH/NO OF FILTERS\n",
    " \n",
    "    model.add((Conv2D(no_Of_Filters//2, size_of_Filter2,activation='relu')))\n",
    "    model.add((Conv2D(no_Of_Filters // 2, size_of_Filter2, activation='relu')))\n",
    "    model.add(MaxPooling2D(pool_size=size_of_pool))\n",
    "    model.add(Dropout(0.5))\n",
    " \n",
    "    model.add(Flatten())\n",
    "    model.add(Dense(no_Of_Nodes,activation='relu'))\n",
    "    model.add(Dropout(0.5)) # INPUTS NODES TO DROP WITH EACH UPDATE 1 ALL 0 NONE\n",
    "    model.add(Dense(noOfClasses,activation='softmax')) # OUTPUT LAYER\n",
    "    # COMPILE MODEL\n",
    "    model.compile(Adam(learning_rate=0.001),loss='categorical_crossentropy',metrics=['accuracy'])\n",
    "    return model"
   ]
  },
  {
   "cell_type": "code",
   "execution_count": null,
   "id": "a43281c6",
   "metadata": {},
   "outputs": [],
   "source": [
    "# parametar used in project  \n",
    "path = \"myData\" # folder with all the class folders\n",
    "labelFile = 'labels.csv' # file with all names of classes\n",
    "batch_size_val=50  # how many to process together\n",
    "steps_per_epoch_val=2000\n",
    "epochs_val=10\n",
    "imageDimesions = (32,32,3)\n",
    "testRatio = 0.2    # if 1000 images split will 200 for testing\n",
    "validationRatio = 0.2 # if 1000 images 20% of remaining 800 will be 160 for validation"
   ]
  },
  {
   "cell_type": "code",
   "execution_count": null,
   "id": "463cd769",
   "metadata": {},
   "outputs": [],
   "source": [
    "count = 0\n",
    "images = []\n",
    "classNo = []\n",
    "myList = os.listdir(path)\n",
    "print(\"Total Classes Detected:\",len(myList))\n",
    "noOfClasses=len(myList)\n",
    "print(\"Importing Classes.....\")\n",
    "for x in range (0,len(myList)):\n",
    "    myPicList = os.listdir(path+\"/\"+str(count))\n",
    "    for y in myPicList:\n",
    "        curImg = cv2.imread(path+\"/\"+str(count)+\"/\"+y)\n",
    "        images.append(curImg)\n",
    "        classNo.append(count)\n",
    "    print(count, end =\" \")\n",
    "    count +=1\n",
    "print(\" \")\n",
    "images = np.array(images)\n",
    "classNo = np.array(classNo)"
   ]
  },
  {
   "cell_type": "code",
   "execution_count": null,
   "id": "cd1d96fa",
   "metadata": {},
   "outputs": [],
   "source": [
    "# X_train = ARRAY OF IMAGES TO TRAIN\n",
    "# y_train = CORRESPONDING CLASS ID\n",
    "X_train, X_test, y_train, y_test = train_test_split(images, classNo, test_size=testRatio)\n",
    "X_train, X_validation, y_train, y_validation = train_test_split(X_train, y_train, test_size=validationRatio)\n",
    " \n",
    "# TO CHECK IF NUMBER OF IMAGES MATCHES TO NUMBER OF LABELS FOR EACH DATA SET\n",
    "print(\"Data Shapes\")\n",
    "print(\"Train\",end = \"\");print(X_train.shape,y_train.shape)\n",
    "print(\"Validation\",end = \"\");print(X_validation.shape,y_validation.shape)\n",
    "print(\"Test\",end = \"\");print(X_test.shape,y_test.shape)\n",
    "assert(X_train.shape[0]==y_train.shape[0]), \"The number of images in not equal to the number of lables in training set\"\n",
    "assert(X_validation.shape[0]==y_validation.shape[0]), \"The number of images in not equal to the number of lables in validation set\"\n",
    "assert(X_test.shape[0]==y_test.shape[0]), \"The number of images in not equal to the number of lables in test set\"\n",
    "assert(X_train.shape[1:]==(imageDimesions)),\" The dimesions of the Training images are wrong \"\n",
    "assert(X_validation.shape[1:]==(imageDimesions)),\" The dimesionas of the Validation images are wrong \"\n",
    "assert(X_test.shape[1:]==(imageDimesions)),\" The dimesionas of the Test images are wrong\""
   ]
  },
  {
 "cell_type": "code",
 "execution_count": null,
 "id": "load-labels",
 "metadata": {},
 "outputs": [],
 "source": [
  "data=pd.read_csv(labelFile)\n",
  "print(\"data shape \",data.shape,type(data))"
 ]
},
  {
 "cell_type": "code",
 "execution_count": null,
 "id": "plot-distribution",
 "metadata": {},
 "outputs": [],
 "source": [
  "print(num_of_samples)\n",
  "plt.figure(figsize=(12, 4))\n",
  "plt.bar(range(0, num_classes), num_of_samples)\n",
  "plt.title(\"Distribution of the training dataset\")\n",
  "plt.xlabel(\"Class number\")\n",
  "plt.ylabel(\"Number of images\")\n",
  "plt.show()"
 ]
},
  {
 "cell_type": "code",
 "execution_count": null,
 "id": "preprocess-images",
 "metadata": {},
 "outputs": [],
 "source": [
  "X_train=np.array(list(map(preprocessing,X_train)))  # TO IRETATE AND PREPROCESS ALL IMAGES\n",
  "X_validation=np.array(list(map(preprocessing,X_validation)))\n",
  "X_test=np.array(list(map(preprocessing,X_test)))\n",
  "cv2.imshow(\"GrayScale Images\",X_train[random.randint(0,len(X_train)-1)]) # TO CHECK IF THE TRAINING IS DONE PROPERLY\n",
  "# ADD A DEPTH OF 1\n",
  "X_train=X_train.reshape(X_train.shape[0],X_train.shape[1],X_train.shape[2],1)\n",
  "X_validation=X_validation.reshape(X_validation.shape[0],X_validation.shape[1],X_validation.shape[2],1)\n",
  "X_test=X_test.reshape(X_test.shape[0],X_test.shape[1],X_test.shape[2],1)"
 ]
},
  {
 "cell_type": "code",
 "execution_count": null,
 "id": "image-data-generator",
 "metadata": {},
 "outputs": [],
 "source": [
  "dataGen= ImageDataGenerator(width_shift_range=0.1,   # 0.1 = 10%     IF MORE THAN 1 E.G 10 THEN IT REFFERS TO NO. OF  PIXELS EG 10 PIXELS\n",
  "                            height_shift_range=0.1,\n",
  "                            zoom_range=0.2,  # 0.2 MEANS CAN GO FROM 0.8 TO 1.2\n",
  "                            shear_range=0.1,  # MAGNITUDE OF SHEAR ANGLE\n",
  "                            rotation_range=10)  # DEGREES\n",
  "dataGen.fit(X_train)\n",
  "# REQUESTING DATA GENRATOR TO GENERATE IMAGES  BATCH SIZE = NO. OF IMAGES CREAED EACH TIME ITS CALLED\n",
  "batches= dataGen.flow(X_train,y_train,batch_size=20) \n",
  "X_batch,y_batch = next(batches) \n",
  "y_train = to_categorical(y_train,noOfClasses)\n",
  "y_validation = to_categorical(y_validation,noOfClasses)\n",
  "y_test = to_categorical(y_test,noOfClasses)"
 ]
},
  {
 "cell_type": "code",
 "execution_count": null,
 "id": "model-training",
 "metadata": {},
 "outputs": [],
 "source": [
  "model = myModel()\n",
  "history=model.fit(dataGen.flow(X_train,y_train,batch_size=batch_size_val),steps_per_epoch=steps_per_epoch_val,epochs=epochs_val,validation_data=(X_validation,y_validation),shuffle=1)"
 ]
},
  {
 "cell_type": "code",
 "execution_count": null,
 "id": "plotting-results",
 "metadata": {},
 "outputs": [],
 "source": [
  "plt.figure(1)\n",
  "plt.plot(history.history['loss'])\n",
  "plt.plot(history.history['val_loss'])\n",
  "plt.legend(['training','validation'])\n",
  "plt.title('loss')\n",
  "plt.xlabel('epoch')\n",
  "plt.figure(2)\n",
  "plt.plot(history.history['accuracy'])\n",
  "plt.plot(history.history['val_accuracy'])\n",
  "plt.legend(['training','validation'])\n",
  "plt.title('Acurracy')\n",
  "plt.xlabel('epoch')\n",
  "plt.show()\n",
  "score =model.evaluate(X_test,y_test,verbose=0)\n",
  "print('Test Score:',score[0])\n",
  "print('Test Accuracy:',score[1])"
 ]
},
 {
 "cell_type": "code",
 "execution_count": null,
 "id": "saving-model",
 "metadata": {},
 "outputs": [],
 "source": [
  "pickle_out= open(\"model_trained.p\",\"wb\")  # wb = WRITE BYTE\n",
  "pickle.dump(model,pickle_out)\n",
  "pickle_out.close()\n",
  "cv2.waitKey(0)"
 ]
} 
 ],
 "metadata": {
  "kernelspec": {
   "display_name": "Python 3",
   "language": "python",
   "name": "python3"
  },
  "language_info": {
   "name": "python",
   "version": "3.13.3"
  }
 },
 "nbformat": 4,
 "nbformat_minor": 5
}
